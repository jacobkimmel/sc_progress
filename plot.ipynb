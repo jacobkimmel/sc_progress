{
 "cells": [
  {
   "cell_type": "code",
   "execution_count": 1,
   "metadata": {},
   "outputs": [],
   "source": [
    "import numpy as np\n",
    "import pandas as pd\n",
    "import matplotlib.pyplot as plt\n",
    "import seaborn as sns\n",
    "%matplotlib inline"
   ]
  },
  {
   "cell_type": "code",
   "execution_count": 6,
   "metadata": {},
   "outputs": [],
   "source": [
    "import matplotlib\n",
    "matplotlib.style.use(\"dark_background\")\n",
    "\n",
    "matplotlib.rcParams['pdf.fonttype'] = 42\n",
    "matplotlib.rcParams['ps.fonttype'] = 42\n",
    "# prevent the PDF from being clipped to the \"figsize\".\n",
    "# NOTE: this is different than `plt.tight_layout()`\n",
    "# despite the similar name.\n",
    "matplotlib.rcParams['savefig.bbox'] = 'tight'"
   ]
  },
  {
   "cell_type": "code",
   "execution_count": 2,
   "metadata": {},
   "outputs": [],
   "source": [
    "df = pd.read_csv(\"./data/sc.tsv\", delimiter=\"\\t\")"
   ]
  },
  {
   "cell_type": "code",
   "execution_count": 3,
   "metadata": {},
   "outputs": [
    {
     "name": "stdout",
     "output_type": "stream",
     "text": [
      "Index(['Shorthand', 'DOI', 'Authors', 'Journal', 'Title', 'Date',\n",
      "       'bioRxiv DOI', 'Reported cells total', 'Organism', 'Tissue',\n",
      "       'Technique', 'Data location', 'Panel size', 'Measurement',\n",
      "       'Cell source', 'Disease', 'Contrasts', 'Developmental stage',\n",
      "       'Number of reported cell types or clusters', 'Cell clustering',\n",
      "       'Pseudotime', 'RNA Velocity', 'PCA', 'tSNE', 'H5AD location',\n",
      "       'Isolation', 'BC --> Cell ID _OR_ BC --> Cluster ID',\n",
      "       'Number individuals'],\n",
      "      dtype='object')\n"
     ]
    }
   ],
   "source": [
    "print(df.columns)\n",
    "df[\"year\"] = df[\"Date\"].apply(lambda x: int(str(x)[:4]))\n",
    "df[\"n_cells\"] = df[\"Reported cells total\"].apply(\n",
    "    lambda x: int(str(x).replace(\",\", \"\")) if type(x)==str else -1\n",
    ")"
   ]
  },
  {
   "cell_type": "code",
   "execution_count": 4,
   "metadata": {},
   "outputs": [],
   "source": [
    "df = df.loc[df[\"n_cells\"]!=-1]"
   ]
  },
  {
   "cell_type": "code",
   "execution_count": 7,
   "metadata": {},
   "outputs": [
    {
     "data": {
      "text/plain": [
       "[<matplotlib.axis.XTick at 0x1777d96a0>,\n",
       " <matplotlib.axis.XTick at 0x1777d9670>,\n",
       " <matplotlib.axis.XTick at 0x1777f8a60>,\n",
       " <matplotlib.axis.XTick at 0x177810850>,\n",
       " <matplotlib.axis.XTick at 0x177810d60>,\n",
       " <matplotlib.axis.XTick at 0x1778172b0>]"
      ]
     },
     "execution_count": 7,
     "metadata": {},
     "output_type": "execute_result"
    },
    {
     "data": {
      "image/png": "[encoded data removed]",
      "text/plain": [
       "<Figure size 288x288 with 1 Axes>"
      ]
     },
     "metadata": {},
     "output_type": "display_data"
    }
   ],
   "source": [
    "fig, ax = plt.subplots(1,1, figsize=(4, 4))\n",
    "\n",
    "sns.lineplot(\n",
    "    data=df,\n",
    "    x=\"year\",\n",
    "    y=\"n_cells\",\n",
    "    ax=ax,\n",
    ")\n",
    "ax.set_xticks([2002, 2010, 2013, 2016, 2019, 2022])"
   ]
  },
  {
   "cell_type": "code",
   "execution_count": 8,
   "metadata": {},
   "outputs": [
    {
     "data": {
      "image/png": "[encoded data removed]",
      "text/plain": [
       "<Figure size 288x216 with 1 Axes>"
      ]
     },
     "metadata": {},
     "output_type": "display_data"
    }
   ],
   "source": [
    "dfg = (\n",
    "    df\n",
    "    .loc[df[\"year\"]<=2021]\n",
    "    .groupby(\"year\")\n",
    "    .mean()\n",
    "    .reset_index()\n",
    ")\n",
    "\n",
    "fig, ax = plt.subplots(1,1, figsize=(4, 3))\n",
    "\n",
    "ax.plot(\n",
    "    dfg[\"year\"],\n",
    "    dfg[\"n_cells\"].rolling(4).median(),\n",
    "    linewidth=3,\n",
    "    color=\"#897AE5\",\n",
    ")\n",
    "for k in (\"top\", \"right\", \"bottom\"):\n",
    "    ax.spines[k].set_visible(False)\n",
    "\n",
    "ax.set_xticks([2005, 2010, 2015, 2020,])\n",
    "\n",
    "ax.set_ylabel(\"# of cells/experiment\", fontsize=14)\n",
    "ax.set_yscale(\"log\")\n",
    "plt.savefig(\"./plots/cells_per_exp.pdf\", transparent=True)"
   ]
  },
  {
   "cell_type": "code",
   "execution_count": 10,
   "metadata": {},
   "outputs": [
    {
     "data": {
      "text/html": [
       "<div>\n",
       "<style scoped>\n",
       "    .dataframe tbody tr th:only-of-type {\n",
       "        vertical-align: middle;\n",
       "    }\n",
       "\n",
       "    .dataframe tbody tr th {\n",
       "        vertical-align: top;\n",
       "    }\n",
       "\n",
       "    .dataframe thead th {\n",
       "        text-align: right;\n",
       "    }\n",
       "</style>\n",
       "<table border=\"1\" class=\"dataframe\">\n",
       "  <thead>\n",
       "    <tr style=\"text-align: right;\">\n",
       "      <th></th>\n",
       "      <th>Date</th>\n",
       "      <th>Cost per Mb</th>\n",
       "      <th>Cost per Genome</th>\n",
       "      <th>Unnamed: 3</th>\n",
       "    </tr>\n",
       "  </thead>\n",
       "  <tbody>\n",
       "    <tr>\n",
       "      <th>0</th>\n",
       "      <td>Sep-01</td>\n",
       "      <td>$5,292.39</td>\n",
       "      <td>$95,263,072</td>\n",
       "      <td>NaN</td>\n",
       "    </tr>\n",
       "    <tr>\n",
       "      <th>1</th>\n",
       "      <td>Mar-02</td>\n",
       "      <td>$3,898.64</td>\n",
       "      <td>$70,175,437</td>\n",
       "      <td>NaN</td>\n",
       "    </tr>\n",
       "    <tr>\n",
       "      <th>2</th>\n",
       "      <td>Sep-02</td>\n",
       "      <td>$3,413.80</td>\n",
       "      <td>$61,448,422</td>\n",
       "      <td>NaN</td>\n",
       "    </tr>\n",
       "    <tr>\n",
       "      <th>3</th>\n",
       "      <td>Mar-03</td>\n",
       "      <td>$2,986.20</td>\n",
       "      <td>$53,751,684</td>\n",
       "      <td>NaN</td>\n",
       "    </tr>\n",
       "    <tr>\n",
       "      <th>4</th>\n",
       "      <td>Oct-03</td>\n",
       "      <td>$2,230.98</td>\n",
       "      <td>$40,157,554</td>\n",
       "      <td>NaN</td>\n",
       "    </tr>\n",
       "  </tbody>\n",
       "</table>\n",
       "</div>"
      ],
      "text/plain": [
       "     Date  Cost per Mb   Cost per Genome   Unnamed: 3\n",
       "0  Sep-01     $5,292.39       $95,263,072         NaN\n",
       "1  Mar-02     $3,898.64       $70,175,437         NaN\n",
       "2  Sep-02     $3,413.80       $61,448,422         NaN\n",
       "3  Mar-03     $2,986.20       $53,751,684         NaN\n",
       "4  Oct-03     $2,230.98       $40,157,554         NaN"
      ]
     },
     "execution_count": 10,
     "metadata": {},
     "output_type": "execute_result"
    }
   ],
   "source": [
    "seq_df = pd.read_csv(\"./data/seq_costs.csv\")\n",
    "seq_df = seq_df.iloc[:-1]\n",
    "\n",
    "seq_df.head()"
   ]
  },
  {
   "cell_type": "code",
   "execution_count": 11,
   "metadata": {},
   "outputs": [],
   "source": [
    "months = {\n",
    "    \"Jan\": \"01\",\n",
    "    \"Feb\": \"02\",\n",
    "    \"Mar\": \"03\",\n",
    "    \"Apr\": \"04\",\n",
    "    \"May\": \"05\",\n",
    "    \"Jun\": \"06\",\n",
    "    \"Jul\": \"07\",\n",
    "    \"Aug\": \"08\",\n",
    "    \"Sep\": \"09\",\n",
    "    \"Oct\": \"10\",\n",
    "    \"Nov\": \"11\",\n",
    "    \"Dec\": \"12\",\n",
    "}\n",
    "\n",
    "seq_df[\"year\"] = seq_df[\"Date\"].apply(\n",
    "    lambda x: int(\"20\" + str(x).split(\"-\")[1]),\n",
    ")\n",
    "seq_df[\"month\"] = seq_df[\"Date\"].apply(\n",
    "    lambda x: int(months[str(x).split(\"-\")[0]]),\n",
    ")\n",
    "\n",
    "seq_df[\"date\"] = seq_df[\"year\"].astype(str) + \"-\" + seq_df[\"month\"].astype(str)\n",
    "\n",
    "seq_df[\"cost\"] = seq_df[\" Cost per Mb \"].apply(\n",
    "    lambda x: float(str(x).replace(\"$\",\"\").replace(\",\",\"\"))\n",
    ")"
   ]
  },
  {
   "cell_type": "code",
   "execution_count": 12,
   "metadata": {},
   "outputs": [
    {
     "data": {
      "image/png": "[encoded data removed]",
      "text/plain": [
       "<Figure size 288x216 with 1 Axes>"
      ]
     },
     "metadata": {},
     "output_type": "display_data"
    }
   ],
   "source": [
    "fig, ax = plt.subplots(1,1, figsize=(4, 3))\n",
    "\n",
    "ax.plot(\n",
    "    seq_df[\"date\"],\n",
    "    seq_df[\"cost\"],\n",
    "    linewidth=3,\n",
    "    color=\"#897AE5\",\n",
    ")\n",
    "for k in (\"top\", \"right\", \"bottom\"):\n",
    "    ax.spines[k].set_visible(False)\n",
    "\n",
    "ax.set_ylabel(\"Seq Cost [$/Mb]\", fontsize=14)\n",
    "ax.set_yscale(\"log\")\n",
    "\n",
    "ax.set_xticks([\"2005-1\", \"2009-1\", \"2013-1\", \"2017-2\", \"2020-1\"])\n",
    "plt.savefig(\"./plots/seq_cost.pdf\", transparent=True)"
   ]
  },
  {
   "cell_type": "code",
   "execution_count": 21,
   "metadata": {},
   "outputs": [
    {
     "data": {
      "text/html": [
       "<div>\n",
       "<style scoped>\n",
       "    .dataframe tbody tr th:only-of-type {\n",
       "        vertical-align: middle;\n",
       "    }\n",
       "\n",
       "    .dataframe tbody tr th {\n",
       "        vertical-align: top;\n",
       "    }\n",
       "\n",
       "    .dataframe thead th {\n",
       "        text-align: right;\n",
       "    }\n",
       "</style>\n",
       "<table border=\"1\" class=\"dataframe\">\n",
       "  <thead>\n",
       "    <tr style=\"text-align: right;\">\n",
       "      <th></th>\n",
       "      <th>tech</th>\n",
       "      <th>year</th>\n",
       "      <th>cost</th>\n",
       "    </tr>\n",
       "  </thead>\n",
       "  <tbody>\n",
       "    <tr>\n",
       "      <th>0</th>\n",
       "      <td>Smart-seq2</td>\n",
       "      <td>2014</td>\n",
       "      <td>83.00</td>\n",
       "    </tr>\n",
       "    <tr>\n",
       "      <th>1</th>\n",
       "      <td>10x Chromium</td>\n",
       "      <td>2017</td>\n",
       "      <td>0.50</td>\n",
       "    </tr>\n",
       "    <tr>\n",
       "      <th>2</th>\n",
       "      <td>SPLiT-seq</td>\n",
       "      <td>2018</td>\n",
       "      <td>0.10</td>\n",
       "    </tr>\n",
       "    <tr>\n",
       "      <th>3</th>\n",
       "      <td>SHARE-seq</td>\n",
       "      <td>2020</td>\n",
       "      <td>0.01</td>\n",
       "    </tr>\n",
       "  </tbody>\n",
       "</table>\n",
       "</div>"
      ],
      "text/plain": [
       "           tech  year   cost\n",
       "0    Smart-seq2  2014  83.00\n",
       "1  10x Chromium  2017   0.50\n",
       "2     SPLiT-seq  2018   0.10\n",
       "3     SHARE-seq  2020   0.01"
      ]
     },
     "execution_count": 21,
     "metadata": {},
     "output_type": "execute_result"
    }
   ],
   "source": [
    "cost_cell = {\n",
    "    \"tech\": [\"Smart-seq2\", \"10x Chromium\", \"SPLiT-seq\", \"SHARE-seq\", \"PIP-seq\"],\n",
    "    \"year\": [2014, 2017, 2018, 2020, 2022],\n",
    "    \"cost\": [83, 0.5, 0.1, 0.01, 0.01],\n",
    "}\n",
    "\n",
    "cell_df = pd.DataFrame(cost_cell)\n",
    "cell_df = cell_df.iloc[:-1]\n",
    "cell_df"
   ]
  },
  {
   "cell_type": "code",
   "execution_count": 22,
   "metadata": {},
   "outputs": [
    {
     "data": {
      "image/png": "[encoded data removed]",
      "text/plain": [
       "<Figure size 288x216 with 1 Axes>"
      ]
     },
     "metadata": {},
     "output_type": "display_data"
    }
   ],
   "source": [
    "fig, ax = plt.subplots(1,1, figsize=(4, 3))\n",
    "\n",
    "ax.plot(\n",
    "    cell_df[\"year\"],\n",
    "    cell_df[\"cost\"],\n",
    "    linewidth=3,\n",
    "    color=\"#897AE5\",\n",
    ")\n",
    "\n",
    "ax.scatter(\n",
    "    cell_df[\"year\"],\n",
    "    cell_df[\"cost\"],\n",
    "    linewidth=3,\n",
    "    color=\"#C5B7FF\",\n",
    "    zorder=10,\n",
    "    #edgecolors=\"white\",\n",
    ")\n",
    "\n",
    "for k in (\"top\", \"right\", \"bottom\"):\n",
    "    ax.spines[k].set_visible(False)\n",
    "\n",
    "ax.set_ylabel(\"Cost/Cell [$]\", fontsize=14)\n",
    "ax.set_yscale(\"log\")\n",
    "\n",
    "for i in range(cell_df.shape[0]):\n",
    "    name = cell_df.iloc[i][\"tech\"]\n",
    "    x = float(cell_df.iloc[i][\"year\"])\n",
    "    y = float(cell_df.iloc[i][\"cost\"])\n",
    "\n",
    "    ax.text(x+0.1, y*1.15, name, fontsize=12)\n",
    "\n",
    "ax.set_xticks(cell_df[\"year\"].tolist())\n",
    "\n",
    "plt.savefig(\"./plots/cell_cost.pdf\", transparent=True)"
   ]
  },
  {
   "cell_type": "code",
   "execution_count": null,
   "metadata": {},
   "outputs": [],
   "source": []
  }
 ],
 "metadata": {
  "kernelspec": {
   "display_name": "Python 3.8.11 ('base')",
   "language": "python",
   "name": "python3"
  },
  "language_info": {
   "codemirror_mode": {
    "name": "ipython",
    "version": 3
   },
   "file_extension": ".py",
   "mimetype": "text/x-python",
   "name": "python",
   "nbconvert_exporter": "python",
   "pygments_lexer": "ipython3",
   "version": "3.8.11"
  },
  "orig_nbformat": 4,
  "vscode": {
   "interpreter": {
    "hash": "e7cb1b9ae4d417fedf7f40a8eec98f7cfbd359e096bd857395a915f4609834ce"
   }
  }
 },
 "nbformat": 4,
 "nbformat_minor": 2
}
